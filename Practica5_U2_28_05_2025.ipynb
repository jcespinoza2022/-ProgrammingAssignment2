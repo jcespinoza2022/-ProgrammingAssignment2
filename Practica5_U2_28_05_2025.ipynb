{
  "nbformat": 4,
  "nbformat_minor": 0,
  "metadata": {
    "colab": {
      "provenance": [],
      "include_colab_link": true
    },
    "kernelspec": {
      "name": "python3",
      "display_name": "Python 3"
    },
    "language_info": {
      "name": "python"
    }
  },
  "cells": [
    {
      "cell_type": "markdown",
      "metadata": {
        "id": "view-in-github",
        "colab_type": "text"
      },
      "source": [
        "<a href=\"https://colab.research.google.com/github/jcespinoza2022/-ProgrammingAssignment2/blob/main/Practica5_U2_28_05_2025.ipynb\" target=\"_parent\"><img src=\"https://colab.research.google.com/assets/colab-badge.svg\" alt=\"Open In Colab\"/></a>"
      ]
    },
    {
      "cell_type": "markdown",
      "source": [
        "# **Listas**"
      ],
      "metadata": {
        "id": "44g2Pbs1Pq6A"
      }
    },
    {
      "cell_type": "markdown",
      "source": [
        "## **Ejercicio 1**\n",
        "\n",
        "Solicite al usuario que ingrese un nombre y muestre por pantalla True si el nombre se encuentra en la lista nombres o False en caso de que no se encuentre.\n",
        "También deberá mostrar la cantidad de veces que aparece el nombre en la lista.\n",
        "\n",
        "Considere que todos los nombres en la lista comienzan con mayúscula y que el usuario puede ingresar el nombre como desee."
      ],
      "metadata": {
        "id": "vdx1tHTdQ4Vp"
      }
    },
    {
      "cell_type": "code",
      "source": [
        "lst_nombres=['Nicolas','Alex','Mary','Jessica','Mary','Valentina','Mary',] #asuma que tiene mas elementos\n"
      ],
      "metadata": {
        "id": "Okhu_7Ez9xbL"
      },
      "execution_count": 1,
      "outputs": []
    },
    {
      "cell_type": "code",
      "source": [
        "lst_nombres=['Nicolas','Alex','Mary','Jessica','Mary','Valentina','Mary',]\n",
        "nombre = input(\"Ingrese el nombre a buscar\")\n",
        "contador=0\n",
        "for dato in lst_nombres:\n",
        "  if dato == nombre.capitalize():\n",
        "    conti= True\n",
        "    contador+=1\n",
        "  else:\n",
        "    conti = False\n",
        "\n",
        "if conti == True :\n",
        "  print(f'El nombre {nombre} si esta en la lista {contador} veces ')\n",
        "else:\n",
        " print(f'El nombre {nombre} no esta en la lista ')"
      ],
      "metadata": {
        "id": "WV0t96BIWcuz",
        "outputId": "b9714054-4f81-4ecf-e0a4-204e7b60d2b4",
        "colab": {
          "base_uri": "https://localhost:8080/"
        }
      },
      "execution_count": 2,
      "outputs": [
        {
          "output_type": "stream",
          "name": "stdout",
          "text": [
            "Ingrese el nombre a buscarmary\n",
            "El nombre mary si esta en la lista 3 veces \n"
          ]
        }
      ]
    },
    {
      "cell_type": "markdown",
      "source": [
        "## **Ejercicio 2**\n",
        "\n",
        "Seleccione 3 elementos aletorios (sin repetir) de la lista frutas y muéstrelos con el siguiente formato:\n",
        "\n",
        "```\n",
        "Las frutas seleccionadas aleatoriamente fueron:\n",
        "- Fruta1\n",
        "- Fruta2\n",
        "- Fruta3\n",
        "```\n",
        "Los nombres de las frutas deben tener la primera letra mayúscula."
      ],
      "metadata": {
        "id": "hhu-amYXRk32"
      }
    },
    {
      "cell_type": "code",
      "source": [
        "import random as rd\n",
        "lst_frutas=['piña','naranja','sandía','manzana','pera','durazno'] #asuma que tiene mas elementos\n"
      ],
      "metadata": {
        "id": "aFAY_k-U9yFn"
      },
      "execution_count": null,
      "outputs": []
    },
    {
      "cell_type": "code",
      "source": [
        "import random as rd\n",
        "lst_frutas=['piña','naranja','sandía','manzana','pera','durazno'] #asuma que tiene mas elementos\n",
        "list_frutas2 = rd.sample(lst_frutas,3)\n",
        "print(f'Las frutas seeccionadas aleatoriamente fueron:\\n-{list_frutas2[0]}\\n-{list_frutas2[1]}\\n-{list_frutas2[2]} ')"
      ],
      "metadata": {
        "id": "EHk8aKKxY-RV",
        "outputId": "8ebd2cfc-6e49-4261-cde5-99181b3c4210",
        "colab": {
          "base_uri": "https://localhost:8080/"
        }
      },
      "execution_count": 7,
      "outputs": [
        {
          "output_type": "stream",
          "name": "stdout",
          "text": [
            "Las frutas seeccionadas aleatoriamente fueron:\n",
            "-manzana\n",
            "-durazno\n",
            "-sandía \n"
          ]
        }
      ]
    },
    {
      "cell_type": "markdown",
      "source": [
        "## **Ejercicio 3**\n",
        "Realice las siguientes instrucciones:\n",
        "- **Muestre** la lista nombres ordenada alfabeticamente de la A a la Z.\n",
        "- De la lista notas, **muestre** la mayor nota, la menor nota y la nota promedio.\n",
        "- **Muestre** la lista de notas ordenada de mayor a menor nota.\n",
        "- Elimine el último elemento de la lista artículos.\n",
        "- Elimine el elemento *esponja* de la lista artículos.\n",
        "- **Muestre** el **índice** del elemento *escoba* de la lista artículos y la **cantidad** de elementos que tiene la lista.\n"
      ],
      "metadata": {
        "id": "mCW1vZvWbJ-a"
      }
    },
    {
      "cell_type": "code",
      "source": [
        "#asuma que las listas tienen mas elementos\n",
        "\n",
        "lst_nombres=['Nicolas','Jessica','Mary','Alex','Valentina']\n",
        "lst_notas=[70,50,45,65,67,46,90]\n",
        "lst_articulos=['detergente', 'lejía', 'jabón', 'esponja', 'trapeador', 'escoba', 'limpiavidrios']\n",
        "\n"
      ],
      "metadata": {
        "id": "7vlN127-bJsp"
      },
      "execution_count": 54,
      "outputs": []
    },
    {
      "cell_type": "code",
      "source": [
        "#asuma que las listas tienen mas elementos\n",
        "\n",
        "lst_nombres=['Nicolas','Jessica','Mary','Alex','Valentina']\n",
        "listaNueva = sorted(lst_nombres)\n",
        "print(listaNueva)\n",
        "lst_notas=[70,50,45,65,67,46,90]\n",
        "print(min(lst_notas))\n",
        "print(max(lst_notas))\n",
        "suma = sum(lst_notas)\n",
        "long = len(lst_notas)\n",
        "promedio = suma /long\n",
        "print(round(promedio,2))\n",
        "#lst_articulos.pop()\n",
        "print(lst_articulos)\n",
        "#lst_articulos.pop(-1)\n",
        "#print(lst_articulos)\n",
        "for i in range(len(lst_articulos)):\n",
        "  if lst_articulos[i] == \"escoba\":\n",
        "    print(i+1)\n",
        "#lst_articulos=['detergente', 'lejía', 'jabón', 'esponja', 'trapeador', 'escoba', 'limpiavidrios']"
      ],
      "metadata": {
        "id": "ivNvry23bglT",
        "outputId": "e41cc1e7-0e22-4504-9f56-83fb98d49be1",
        "colab": {
          "base_uri": "https://localhost:8080/"
        }
      },
      "execution_count": 57,
      "outputs": [
        {
          "output_type": "stream",
          "name": "stdout",
          "text": [
            "['Alex', 'Jessica', 'Mary', 'Nicolas', 'Valentina']\n",
            "45\n",
            "90\n",
            "61.86\n",
            "['detergente', 'lejía', 'jabón', 'esponja', 'trapeador', 'escoba', 'limpiavidrios']\n",
            "6\n"
          ]
        }
      ]
    },
    {
      "cell_type": "code",
      "source": [
        "="
      ],
      "metadata": {
        "id": "LhXj9z3Eo8S2"
      },
      "execution_count": null,
      "outputs": []
    }
  ]
}